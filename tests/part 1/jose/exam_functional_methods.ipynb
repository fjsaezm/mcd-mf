{
 "cells": [
  {
   "cell_type": "markdown",
   "metadata": {},
   "source": [
    "# The exponential kernel."
   ]
  },
  {
   "cell_type": "markdown",
   "metadata": {},
   "source": [
    "## Functional Methods in Machine Learning \n",
    "Final exam\n",
    "\n",
    "Due date: Monday, 2022/03/07, 13:00\n"
   ]
  },
  {
   "cell_type": "code",
   "execution_count": 1,
   "metadata": {},
   "outputs": [],
   "source": [
    "%load_ext autoreload\n",
    "%autoreload 2\n",
    "import numpy as np\n",
    "import numpy as np\n",
    "from scipy import stats\n",
    "from sklearn import datasets\n",
    "import matplotlib.pyplot as plt\n",
    "\n",
    "\n",
    "import kernel_approximation as ka\n",
    "import kernel_machine_learning as kml\n",
    "import stochastic_plots as stoch"
   ]
  },
  {
   "cell_type": "markdown",
   "metadata": {},
   "source": [
    "## Generation of random samples: Inverse transform sampling.\n",
    "\n",
    "Consider a real-valued random variable whose pdf is $f(x)$. \n",
    "The corresponding cdf is\n",
    "$$\n",
    "F(x) = \\int_{-\\infty}^{x} dx' f(x').\n",
    "$$\n",
    "This inverse of the cdf ($F^{-1}(p)$) can be used to generate random numbers from this distribution using the following algorithm:\n",
    "\n",
    "1. Generate a sample from the $U[0,1]$ distribution $\\left\\{u_m \\right\\}_{m=1}^M $ with $ u_m \\sim U[0,1]$.\n",
    "2. The sample $\\left\\{w_m = F^{-1}(u_m) \\right\\}_{m=1}^M $ is such that $w_m \\sim f(w)$. \n",
    "\n",
    "For instance, the pdf of an exponential distribution defined on the set of non-negative real numbers is\n",
    "$$\n",
    "f(x) = \\lambda e^{-\\lambda x},   x \\ge 0,\n",
    "$$\n",
    "with $\\lambda > 0$.\n",
    "\n",
    "The corresponding cdf is\n",
    "$$\n",
    "F(x) = \\int_{0}^{x} dx \\lambda e^{-\\lambda x} = 1 - e^{-\\lambda x}, \\  x \\ge 0.\n",
    "$$\n",
    "The inverse of the cdf is such that $ F^{-1}(p) = x$.\n",
    "Since $p = F(x) = 1 -e^{-\\lambda x}$, $x = - \\log (1-p) / \\lambda$. Therefore, \n",
    "$$\n",
    "F^{-1}(p) = -\\frac{1}{\\lambda} \\log (1-p), \\ 0 \\le p \\le 1.\n",
    "$$\n",
    "See, for instance, [ https://en.wikipedia.org/wiki/Exponential_distribution ]"
   ]
  },
  {
   "cell_type": "code",
   "execution_count": 2,
   "metadata": {},
   "outputs": [
    {
     "data": {
      "image/png": "[encoded data removed]",
      "text/plain": [
       "<Figure size 432x288 with 1 Axes>"
      ]
     },
     "metadata": {
      "needs_background": "light"
     },
     "output_type": "display_data"
    }
   ],
   "source": [
    "# Generate samples from the exponential distribution.\n",
    "\n",
    "# Exponential distribution\n",
    "def exp_pdf(x, gamma):\n",
    "    return  np.exp(- x / gamma) / gamma\n",
    "\n",
    "def exp_cdf(x, lambd):\n",
    "    return 1.0 - np.exp(- x / gamma)\n",
    "\n",
    "def exp_inverse_cdf(p, gamma):\n",
    "    return - gamma * np.log(1.0 - p) \n",
    "\n",
    "# Inverse transform sampling.\n",
    "\n",
    "gamma = 2.0\n",
    "\n",
    "n_samples = 10000\n",
    "U = np.random.rand(n_samples) # U ~ U[0, 1]\n",
    "X = exp_inverse_cdf(U, gamma)\n",
    "\n",
    "# Define a range for the plot. \n",
    "\n",
    "X_min, X_max = (np.min(X), np.max(X))\n",
    "\n",
    "fontsize = 14\n",
    "fig, ax = stoch.plot_pdf(\n",
    "    X, \n",
    "    lambda x: exp_pdf(x, gamma), \n",
    "    fontsize=fontsize, \n",
    "    fig_num=1,\n",
    ")\n",
    "_ = ax.set_xlabel('$x$', fontsize=fontsize)\n",
    "_ = ax.set_ylabel('pdf($x$)', fontsize=fontsize)"
   ]
  },
  {
   "cell_type": "markdown",
   "metadata": {},
   "source": [
    "## Exponential kernel in 1 dimension\n",
    "\n",
    "The exponential kernel in 1 dimension is\n",
    "$$\n",
    "k(x, x') = k(x - x') = \\exp\\left(- \\frac{\\left|x - x' \\right|}{\\gamma} \\right).\n",
    "$$\n",
    "\n",
    "####  Q1. Express this kernel as the Fourier transform of a density $\\hbox{pdf}(x)$.\n",
    "$$\n",
    "k(x) = \\int_{-\\infty}^{\\infty} e^{i w x} \\text{pdf}(w) dw.\n",
    "$$\n",
    "The density is proportional to the  the inverse Fourier transform of $k(x)$\n",
    "$$\n",
    "\\hbox{pdf}(w) = \\frac{1}{2 \\pi} \\int_{-\\infty}^{\\infty} e^{-i x w} k(x) dx \n",
    "$$\n",
    "\n",
    "[YOUR ANSWER HERE]\n",
    "    \n",
    "####  Q2. Derive the cdf and inverse of the cdf for $\\hbox{pdf}(w)$. \n",
    "The corresponding cumulative distribution function is:\n",
    "$$\n",
    "\\hbox{cdf}(w) = \\int_{-\\infty}^w \\hbox{pdf}(w') dw'\n",
    "$$\n",
    "  \n",
    "[YOUR ANSWER HERE]\n"
   ]
  },
  {
   "cell_type": "markdown",
   "metadata": {},
   "source": [
    "#### Q3. Use the method of the inverse to generate random numbers sampled from this $\\text{pdf}(w)$."
   ]
  },
  {
   "cell_type": "code",
   "execution_count": 3,
   "metadata": {},
   "outputs": [],
   "source": [
    "#  [YOUR ANSWER HERE]\n",
    "\n"
   ]
  },
  {
   "cell_type": "markdown",
   "metadata": {},
   "source": [
    "## Exponential kernel in $D$ dimensions.\n",
    "\n",
    "Consider the exponential kernel in $D$ dimensions\n",
    "$$ k(\\mathbf{x}, \\mathbf{x}') = k(\\mathbf{x}- \\mathbf{x}') = \\exp\\left\\{- \\frac{\\lVert \\mathbf{x}- \\mathbf{x}' \\rVert_1}{\\gamma} \\right\\},$$\n",
    "with the $L_1$ norm\n",
    "$$ \\lVert \\mathbf{x}- \\mathbf{x}' \\rVert_1 = \\sum_{d=1}^D \\left|x_d \\right|.$$\n",
    "\n",
    "The Fourier transform of the exponential kernel in $D$ dimensions is proportional to a pdf:\n",
    "$$\n",
    "\\text{pdf}(\\mathbf{w}) \\propto \\int_{\\mathbb{R}^D} e^{-i \\mathbf{w}^T \\mathbf{x}} \\exp\\left\\{- \\frac{\\lVert \\mathbf{x} \\rVert_1}{\\gamma} \\right\\} d \\mathbf{x}.\n",
    "$$\n",
    "\n",
    "#### Q4. Compute the Fourier transform of the exponential kernel in $D$ dimensions.\n",
    "The inverse Fourier transform of a translationally invariante kernel\n",
    "$$\n",
    "k(\\mathbf{x}, \\mathbf{x}') = k(\\mathbf{x} - \\mathbf{x}').\n",
    "$$\n",
    "is\n",
    "$$\n",
    "\\text{pdf}(\\mathbf{w}) = \\frac{1}{\\left(2 \\pi\\right)^D} \\int_{\\mathbb{R}^D} e^{- i \\mathbf{w}^T \\mathbf{x}} k(\\mathbf{x}) d\\mathbf{x}\n",
    "$$\n",
    "\n",
    "[YOUR ANSWER HERE]\n"
   ]
  },
  {
   "cell_type": "markdown",
   "metadata": {},
   "source": [
    "#### Q5. Use the method of the inverse to generate random numbers sampled from $\\text{pdf}(\\mathbf{w})$.\n",
    "\n",
    "*Hint:* If the 1D implementation is vectorized, the answer to this question is straightforward.\n",
    "\n",
    "\n",
    "#### Q6. Write code to generate random Fourier Features corresponding to the exponential kernel in D dimensions.\n",
    "\n",
    "Complete the code for the class \n",
    "\n",
    "```python\n",
    "class RandomFeaturesSamplerExp(RandomFeaturesSampler):\n",
    "```\n",
    "in the file \n",
    "``` \n",
    "kernel_approximation.py\n",
    "```\n",
    "\n"
   ]
  },
  {
   "cell_type": "markdown",
   "metadata": {},
   "source": [
    "### Generation of Random Fourier Features: Alternative sampling scheme.\n",
    "\n",
    "Consider the translationally invariant kernel $k\\left(\\mathbf{x}, \\mathbf{x}'\\right) = k\\left(\\mathbf{x} - \\mathbf{x}'\\right)$, with $\\mathbf{x}, \\mathbf{x}' \\in \\mathbb{R}^D$.\n",
    "\n",
    "Acording to Bochner's theorem, this type of kernel can be expressed as the Fourier transform of a (possibly not normalized) density $p(\\mathbf{w})$\n",
    "$$\n",
    "k\\left(\\mathbf{x} - \\mathbf{x}'\\right) = \\int_{-\\infty}^{\\infty} d\\mathbf{w} p\\left(\\mathbf{w}\\right) e^{i \\mathbf{w}^T \\left(\\mathbf{x} - \\mathbf{x}'\\right)}.\n",
    "$$\n",
    "Since the kernel funtion is real and symmetric, this expression can be written as \n",
    "$$\n",
    "k\\left(\\mathbf{x} - \\mathbf{x}'\\right) = \\int_{-\\infty}^{\\infty} d\\mathbf{w} p\\left(\\mathbf{w}\\right) \\cos \\left(\\mathbf{w}^T \\left(\\mathbf{x} - \\mathbf{x}'\\right) \\right).\n",
    "$$\n",
    "\n",
    "Show that the set of random features\n",
    "$$\n",
    "\\left\\{ \\left( \\cos \\mathbf{w}^T \\mathbf{x}, \\sin \\mathbf{w}^T \\mathbf{x} \\right); \\mathbf{w} \\sim p(\\mathbf{w})\\right\\}.\n",
    "$$\n",
    "and the set \n",
    "$$\n",
    "\\left\\{\\sqrt{2} \\cos \\left(\\mathbf{w}^T \\mathbf{x} + b \\right); \\ \\mathbf{w} \\sim p(\\mathbf{w}); \\ b \\sim U[0 , 2 \\pi]; \\ \\mathbf{w} \\perp b\\right\\}\n",
    "$$\n",
    "provide the same approximation of the kernel."
   ]
  },
  {
   "cell_type": "markdown",
   "metadata": {},
   "source": [
    "#### The kernel approximation using the first type of features is\n",
    "$$\n",
    "k\\left(\\mathbf{x}, \\mathbf{x}'\\right) = \\int_{-\\infty}^{\\infty} d\\mathbf{w} p(\\mathbf{w}) \\left( \\cos \\mathbf{w}^T \\mathbf{x}, \\, \\sin \\mathbf{w}^T \\mathbf{x} \\right) \\left( \\cos \\mathbf{w}^T \\mathbf{x}', \\, \\sin \\mathbf{w}^T \\mathbf{x}' \\right)^T \n",
    "= \\int_{-\\infty}^{\\infty} d\\mathbf{w} p(\\mathbf{w}) \\left( \\cos \\mathbf{w}^T \\mathbf{x}  \\, \\cos \\mathbf{w}^T \\mathbf{x}' + \\sin \\mathbf{w}^T \\mathbf{x} \\,  \\sin \\mathbf{w}^T \\mathbf{x}' \\right) = \\int_{-\\infty}^{\\infty} d\\mathbf{w} p(\\mathbf{w}) \\cos \\left( \\mathbf{w}^T \\left( \\mathbf{x} - \\mathbf{x}' \\right) \\right).\n",
    "$$\n",
    "\n",
    "#### Q7. Derive the kernel approximation using the second type of features.\n",
    "\n",
    "[YOUR ANSWER HERE]\n"
   ]
  },
  {
   "cell_type": "markdown",
   "metadata": {},
   "source": [
    "#### Q8. Implement the sampling method based on the second type of random features.\n",
    "\n",
    "Fill in the corresponding code in the file \n",
    "``` \n",
    "kernel_approximation.py\n",
    "```"
   ]
  },
  {
   "cell_type": "markdown",
   "metadata": {},
   "source": [
    "#### Q9. Illustrate that both types of feaures approximate the exponential kernel when $p(\\mathbf{w})$ is the inverse Fourier transform of the exponential kernel in $D$ dimensions. \n",
    "\n"
   ]
  },
  {
   "cell_type": "code",
   "execution_count": 4,
   "metadata": {},
   "outputs": [],
   "source": [
    "## Generate data\n",
    "# 3-D data\n",
    "n_instances = 1000\n",
    "X, t = datasets.make_s_curve(n_instances, noise=0.1)\n",
    "X = X[np.argsort(t)]"
   ]
  },
  {
   "cell_type": "code",
   "execution_count": 5,
   "metadata": {},
   "outputs": [],
   "source": [
    "# Approximate the exponential kernel using Random Fourier Features.\n",
    "\n",
    "length_scale = 2.0\n",
    "A = 1.0\n",
    "\n",
    "def kernel(X, Y): \n",
    "    return kml.exponential_kernel( X, Y, A=1.0, l=length_scale)\n",
    "\n",
    "## Create instances of the random features sampler\n",
    "\n",
    "#  <YOUR ANSWER HERE>\n"
   ]
  },
  {
   "cell_type": "markdown",
   "metadata": {},
   "source": [
    "### Q10. Train and evaluate different classifiers.\n",
    "\n",
    "Solve the classification problem using different kernel methods using the same data in\n",
    "\n",
    "https://scikit-learn.org/stable/auto_examples/miscellaneous/plot_kernel_approximation.html#sphx-glr-auto-examples-miscellaneous-plot-kernel-approximation-py\n",
    "\n",
    "**To get more stable results, the process should be repeated for $10$ different random train / test partitions of the data.**\n",
    "\n",
    "Using 5-fold cross validation on the training data, determine the optimal values of the hyperparameter for the following cases: \n",
    "1. Non-linear SVM + RBF kernel [C, gamma]\n",
    "2. Linear SVM + RBF random features [C, gamma, n_features]\n",
    "3. Linear SVM + RBF Nyström features [C, gamma, n_features]\n",
    "4. Non-linear SVM + exponential kernel [C, length_scale] \n",
    "5. Linear SVM + exponential random features [C, length_scale, n_features]\n",
    "6. Linear SVM + exponential Nyström features [C, length_scale, n_features]\n",
    "\n",
    "##### NOTES\n",
    "* Determine the hyperparameter grid on which the search is made using references from the literature. Include those references in the Chicago citation format ( https://www.chicagomanualofstyle.org/tools_citationguide/citation-guide-2.html).\n",
    "\n",
    "* It may be useful to vary one of the hyperparameters while keeping the other fixed (include those plots in your report). For instance, for $n_{features}$. \n",
    "\n",
    "##### REPORT:\n",
    "* Plot the curve that traces the dependence of the CV, training and test error as a function of $n_{features}$ for a fixed value of the other parameters.\n",
    "* Train final models with the values of the optimal hyperparameters.  \n",
    "* Provide in a table the mean and the standard deviation of the training error, the cross-validation error and test error for each of the 6 methods considered.\n",
    "* Provide in a table the mean and the standard deviation of the times for the cross-validation step, for the final training time, and for the prediction time in the test set. To this end, use the Python library $\\texttt{timeit}$."
   ]
  },
  {
   "cell_type": "markdown",
   "metadata": {},
   "source": [
    "### Sklearn resources.\n",
    "\n",
    "1. Non-linear SVM for classification: https://scikit-learn.org/stable/modules/generated/sklearn.svm.SVC.html\n",
    "\n",
    "2. Linear SVM for classification: https://scikit-learn.org/stable/modules/generated/sklearn.svm.LinearSVC.html\n",
    "\n",
    "3. Cross-validation: https://scikit-learn.org/stable/modules/generated/sklearn.model_selection.GridSearchCV.html#sklearn.model_selection.GridSearchCV\n",
    "\n",
    "4. Timing and accuracy plots for random Fourier Features and Nyström features: https://scikit-learn.org/stable/modules/generated/sklearn.kernel_approximation.RBFSampler.html"
   ]
  },
  {
   "cell_type": "code",
   "execution_count": null,
   "metadata": {},
   "outputs": [],
   "source": []
  }
 ],
 "metadata": {
  "kernelspec": {
   "display_name": "Python 3 (ipykernel)",
   "language": "python",
   "name": "python3"
  },
  "language_info": {
   "codemirror_mode": {
    "name": "ipython",
    "version": 3
   },
   "file_extension": ".py",
   "mimetype": "text/x-python",
   "name": "python",
   "nbconvert_exporter": "python",
   "pygments_lexer": "ipython3",
   "version": "3.9.7"
  }
 },
 "nbformat": 4,
 "nbformat_minor": 4
}

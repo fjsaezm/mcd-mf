{
 "cells": [
  {
   "cell_type": "markdown",
   "metadata": {},
   "source": [
    "<div style=\"font-weight: bold; color:#5D8AA8\" align=\"center\">\n",
    "    <div style=\"font-size: xx-large\">Métodos Funcionales en Aprendizaje Automático</div><br>\n",
    "    <div style=\"font-size: x-large; color:gray\">Laplacian Eigenmaps</div><br>\n",
    "    <div style=\"font-size: large\">Ángela Fernández Pascual - Universidad Autónoma de Madrid</div><br></div><hr>\n",
    "</div>"
   ]
  },
  {
   "cell_type": "markdown",
   "metadata": {},
   "source": [
    "**Initial Configuration**"
   ]
  },
  {
   "cell_type": "markdown",
   "metadata": {},
   "source": [
    "This cell defines the configuration of our Jupyter Notebooks."
   ]
  },
  {
   "cell_type": "code",
   "execution_count": 1,
   "metadata": {},
   "outputs": [
    {
     "data": {
      "text/html": [
       "<style>\n",
       "    .qst {background-color: #b1cee3; padding:10px; border-radius: 5px; border: solid 2px #5D8AA8;}\n",
       "    .qst:before {font-weight: bold; content:\"Exercise\"; display: block; margin: 0px 10px 10px 10px;}\n",
       "                   \n",
       "    .tqst {background-color: #97d0a7; padding:10px; border-radius: 5px; border: solid 2px #63BA97;}\n",
       "    .tqst:before {font-weight: bold; content:\"Team Exercise\"; display: block; margin: 0px 10px 10px 10px;}\n",
       "           \n",
       "    h1, h2, h3 {color: #5D8AA8;}\n",
       "    .text_cell_render p {text-align: justify; text-justify: inter-word;}\n",
       "</style>\n"
      ],
      "text/plain": [
       "<IPython.core.display.HTML object>"
      ]
     },
     "metadata": {},
     "output_type": "display_data"
    }
   ],
   "source": [
    "%%html\n",
    "<style>\n",
    "    .qst {background-color: #b1cee3; padding:10px; border-radius: 5px; border: solid 2px #5D8AA8;}\n",
    "    .qst:before {font-weight: bold; content:\"Exercise\"; display: block; margin: 0px 10px 10px 10px;}\n",
    "                   \n",
    "    .tqst {background-color: #97d0a7; padding:10px; border-radius: 5px; border: solid 2px #63BA97;}\n",
    "    .tqst:before {font-weight: bold; content:\"Team Exercise\"; display: block; margin: 0px 10px 10px 10px;}\n",
    "           \n",
    "    h1, h2, h3 {color: #5D8AA8;}\n",
    "    .text_cell_render p {text-align: justify; text-justify: inter-word;}\n",
    "</style>"
   ]
  },
  {
   "cell_type": "code",
   "execution_count": 2,
   "metadata": {},
   "outputs": [],
   "source": [
    "%matplotlib inline\n",
    "%load_ext autoreload\n",
    "%autoreload 2"
   ]
  },
  {
   "cell_type": "markdown",
   "metadata": {},
   "source": [
    "This cell imports the packages to be used."
   ]
  },
  {
   "cell_type": "code",
   "execution_count": 3,
   "metadata": {},
   "outputs": [],
   "source": [
    "import numpy as np\n",
    "\n",
    "import matplotlib\n",
    "import matplotlib.pyplot as plt\n",
    "\n",
    "from sklearn.datasets import make_swiss_roll\n",
    "\n",
    "from sklearn.manifold import SpectralEmbedding\n",
    "\n",
    "from mpl_toolkits.mplot3d import Axes3D\n",
    "Axes3D\n",
    "\n",
    "matplotlib.rc('figure', figsize=(15, 5))\n",
    "\n",
    "seed = 123\n",
    "my_cmap = plt.cm.Spectral"
   ]
  },
  {
   "cell_type": "markdown",
   "metadata": {},
   "source": [
    "# Laplacian Eigenmaps (LE) Algorithm"
   ]
  },
  {
   "cell_type": "markdown",
   "metadata": {},
   "source": [
    "## Dataset 1"
   ]
  },
  {
   "cell_type": "markdown",
   "metadata": {},
   "source": [
    "This first dataset is just a sample of random points generated following a Gaussian distribution."
   ]
  },
  {
   "cell_type": "code",
   "execution_count": 4,
   "metadata": {},
   "outputs": [
    {
     "data": {
      "image/png": "[encoded data removed]",
      "text/plain": [
       "<Figure size 1080x360 with 1 Axes>"
      ]
     },
     "metadata": {
      "needs_background": "light"
     },
     "output_type": "display_data"
    }
   ],
   "source": [
    "N=50\n",
    "d=2\n",
    "\n",
    "np.random.seed(seed)\n",
    "data=np.random.randn(N,d)\n",
    "plt.scatter(data[:,0], data[:,1], marker='*', cmap=my_cmap)\n",
    "plt.axis('equal')\n",
    "plt.show()"
   ]
  },
  {
   "cell_type": "markdown",
   "metadata": {},
   "source": [
    "## Step 1: Constructing the adjacency graph\n",
    "## Step 2: Choosing the weights"
   ]
  },
  {
   "cell_type": "markdown",
   "metadata": {},
   "source": [
    "Step 1 and 2 of the LE algorithm are in general computed together as they are very related. The graph is not explicitly computed, but we connect vertices via the weight matrix."
   ]
  },
  {
   "cell_type": "code",
   "execution_count": 17,
   "metadata": {},
   "outputs": [],
   "source": [
    "t=1\n",
    "k=10\n",
    "\n",
    "W = np.zeros((N,N))\n",
    "\n",
    "for i in range(N):\n",
    "    x_0 = data[i]\n",
    "    \n",
    "    dist = np.sum((x_0-data)**2, 1)\n",
    "    neigs = dist.argsort()\n",
    "    \n",
    "    # Compute Heat Kernel\n",
    "    for neig in neigs:\n",
    "        W[i, neig] = np.exp( - np.linalg.norm(x_0 - data[neig])**2 / (4*t) )\n",
    "    \n",
    "    \n",
    "#Symmetric weight matrix\n",
    "W = (W + W.T) / 2.0\n",
    "W -= np.identity(len(W))"
   ]
  },
  {
   "cell_type": "markdown",
   "metadata": {},
   "source": [
    "<div class=\"qst\">\n",
    "\n",
    "* Define the weight matrix in terms of the Heat Kernel.\n",
    "\n",
    "</div>"
   ]
  },
  {
   "cell_type": "code",
   "execution_count": 15,
   "metadata": {},
   "outputs": [
    {
     "data": {
      "image/png": "[encoded data removed]",
      "text/plain": [
       "<Figure size 1080x360 with 1 Axes>"
      ]
     },
     "metadata": {
      "needs_background": "light"
     },
     "output_type": "display_data"
    }
   ],
   "source": [
    "#Plot colored by weight with the last point of the sample as reference.\n",
    "plt.scatter(data[:,0], data[:,1], marker='o', c=W[-1], cmap=my_cmap, alpha=0.6)\n",
    "plt.scatter(x_0[0], x_0[1], color='r', marker='*')\n",
    "plt.axis('equal')\n",
    "plt.show()"
   ]
  },
  {
   "cell_type": "markdown",
   "metadata": {},
   "source": [
    "## Step 3: Computing eigenmaps"
   ]
  },
  {
   "cell_type": "markdown",
   "metadata": {},
   "source": [
    "<div class=\"qst\">\n",
    "\n",
    "* Define the Laplacian matrix L.\n",
    "\n",
    "</div>"
   ]
  },
  {
   "cell_type": "code",
   "execution_count": null,
   "metadata": {},
   "outputs": [],
   "source": [
    "\n",
    "L = "
   ]
  },
  {
   "cell_type": "markdown",
   "metadata": {},
   "source": [
    "For obtaining the embedding coordinates, we just have to perform the eigenanalysis of L. The coordinates will be defined by the eigenvectors corresponding to the lowest eigenvalues, except for the eigenvalue $0$."
   ]
  },
  {
   "cell_type": "code",
   "execution_count": null,
   "metadata": {},
   "outputs": [],
   "source": [
    "lamb, v = np.linalg.eig(L)\n",
    "id_lamb = lamb.argsort()"
   ]
  },
  {
   "cell_type": "markdown",
   "metadata": {},
   "source": [
    "Plotting the eigenvalues can give us interesting information. Here we appreciate that the first eigenvalue is equal to 0, then we have two eigenvalues almost with the same value, and a gap between those and the remaining ones."
   ]
  },
  {
   "cell_type": "code",
   "execution_count": null,
   "metadata": {},
   "outputs": [],
   "source": [
    "plt.plot(lamb[id_lamb], '*-')\n",
    "plt.show()"
   ]
  },
  {
   "cell_type": "markdown",
   "metadata": {},
   "source": [
    "Lastly, we can plot the embedded coordinates."
   ]
  },
  {
   "cell_type": "code",
   "execution_count": null,
   "metadata": {},
   "outputs": [],
   "source": [
    "plt.scatter (v[:,id_lamb[1]], v[:,id_lamb[2]])\n",
    "plt.axis('equal')\n",
    "plt.show()"
   ]
  },
  {
   "cell_type": "markdown",
   "metadata": {},
   "source": [
    "## Complete algorithm definition"
   ]
  },
  {
   "cell_type": "code",
   "execution_count": null,
   "metadata": {},
   "outputs": [],
   "source": [
    "def LE(data,N,t,k):\n",
    "    \n",
    "    #Weight matrix computation\n",
    "    W=np.zeros((N,N))\n",
    "    for i in range(N):\n",
    "        x_0 = data[i,:]\n",
    "    \n",
    "        dist=np.sum((x_0-data)**2,1)\n",
    "        neigs=dist.argsort()\n",
    "    \n",
    "        w=\n",
    "        \n",
    "    W=\n",
    "    \n",
    "    #Laplacian matrix\n",
    "    \n",
    "    L = \n",
    "\n",
    "    #Eigendecomposition\n",
    "    lamb, v = np.linalg.eig(L)\n",
    "    id_lamb = lamb.argsort()\n",
    "    \n",
    "    return [lamb, v, id_lamb]"
   ]
  },
  {
   "cell_type": "markdown",
   "metadata": {},
   "source": [
    "## Dataset 2"
   ]
  },
  {
   "cell_type": "markdown",
   "metadata": {},
   "source": [
    "As a second example, we can use our motivational dataset: the **Swiss Roll**."
   ]
  },
  {
   "cell_type": "code",
   "execution_count": null,
   "metadata": {},
   "outputs": [],
   "source": [
    "N=1500\n",
    "SwissRoll, color = make_swiss_roll(n_samples=N)\n",
    "fig = plt.figure()\n",
    "ax = fig.add_subplot(111, projection='3d')\n",
    "ax.scatter(SwissRoll[:, 0], SwissRoll[:, 1], SwissRoll[:, 2], c=color, cmap=my_cmap)\n",
    "plt.show()"
   ]
  },
  {
   "cell_type": "markdown",
   "metadata": {},
   "source": [
    "<div class=\"tqst\">\n",
    "\n",
    "* Call the previous function LE for this dataset.\n",
    "* Plot the embedding, is it the expected one?\n",
    "* Change the values of the hyperparameters $t$ and $k$ to see how they affect the result. \n",
    "\n",
    "</div>"
   ]
  },
  {
   "cell_type": "markdown",
   "metadata": {},
   "source": [
    "## Trivial Solution"
   ]
  },
  {
   "cell_type": "markdown",
   "metadata": {},
   "source": [
    "**Why are we discarding the first eigenvalue and its corresponding eigenvector?**\n",
    "\n",
    "Let's see how it looks like."
   ]
  },
  {
   "cell_type": "code",
   "execution_count": null,
   "metadata": {},
   "outputs": [],
   "source": [
    "print(v[:,id_lamb[0]])"
   ]
  },
  {
   "cell_type": "code",
   "execution_count": null,
   "metadata": {},
   "outputs": [],
   "source": [
    "plt.scatter (v[:,id_lamb[0]], np.zeros((N,1)), c=color, cmap=my_cmap)\n",
    "plt.axis([-0.1,0.1,-0.04,0.04])\n",
    "plt.show()"
   ]
  },
  {
   "cell_type": "markdown",
   "metadata": {},
   "source": [
    "<div class=\"qst\">\n",
    "    \n",
    "* Which pecularities can you see regarding the eigenvectors and the picture?\n",
    "\n",
    "</div>"
   ]
  },
  {
   "cell_type": "markdown",
   "metadata": {},
   "source": [
    "## Swiss Roll Example using Sklearn"
   ]
  },
  {
   "cell_type": "markdown",
   "metadata": {},
   "source": [
    "Let's compare the result between our implementation and the *scikit-learn* one."
   ]
  },
  {
   "cell_type": "code",
   "execution_count": null,
   "metadata": {},
   "outputs": [],
   "source": [
    "# Using a RBF Kernel for defining the affinity\n",
    "LE_embedding_rbf = SpectralEmbedding(n_components=2, affinity='rbf', gamma=1e0)"
   ]
  },
  {
   "cell_type": "code",
   "execution_count": null,
   "metadata": {},
   "outputs": [],
   "source": [
    "# Using the nearest neighbours approach for defining the affinity\n",
    "LE_embedding_NN = SpectralEmbedding(n_components=2, affinity='nearest_neighbors', n_neighbors=10)"
   ]
  },
  {
   "cell_type": "code",
   "execution_count": null,
   "metadata": {},
   "outputs": [],
   "source": [
    "X_r = LE_embedding_rbf.fit_transform(SwissRoll)\n",
    "\n",
    "plt.scatter(X_r[:, 0], X_r[:, 1], c=color, cmap=my_cmap)\n",
    "plt.axis('equal')\n",
    "plt.show()"
   ]
  },
  {
   "cell_type": "markdown",
   "metadata": {},
   "source": [
    "<div class=\"tqst\">\n",
    "\n",
    "* What differences can you appreciate between both implemented methods?\n",
    "* And respect to our method (using the Heat Kernel)?\n",
    "* Change the values of the hyperparameters $gamma$ and $n\\_neighbors$ to check how they affect the result.\n",
    "\n",
    "</div>"
   ]
  },
  {
   "cell_type": "markdown",
   "metadata": {},
   "source": [
    "# The Heat Flow"
   ]
  },
  {
   "cell_type": "markdown",
   "metadata": {},
   "source": [
    "This example shows how flows the heat over a material following the Heat Equation.\n",
    "\n",
    "It has been taken from https://levelup.gitconnected.com/solving-2d-heat-equation-numerically-using-python-3334004aa01a"
   ]
  },
  {
   "cell_type": "code",
   "execution_count": null,
   "metadata": {},
   "outputs": [],
   "source": [
    "import numpy as np\n",
    "import matplotlib.pyplot as plt\n",
    "import matplotlib.animation as animation\n",
    "from matplotlib.animation import FuncAnimation\n",
    "\n",
    "print(\"2D heat equation solver\")\n",
    "\n",
    "plate_length = 50\n",
    "max_iter_time = 750\n",
    "\n",
    "alpha = 2\n",
    "delta_x = 1\n",
    "\n",
    "delta_t = (delta_x ** 2)/(4 * alpha)\n",
    "gamma = (alpha * delta_t) / (delta_x ** 2)\n",
    "\n",
    "# Initialize solution: the grid of u(k, i, j)\n",
    "u = np.empty((max_iter_time, plate_length, plate_length))\n",
    "\n",
    "# Initial condition everywhere inside the grid\n",
    "u_initial = 0\n",
    "\n",
    "# Boundary conditions\n",
    "u_top = 100.0\n",
    "u_left = 0.0\n",
    "u_bottom = 0.0\n",
    "u_right = 0.0\n",
    "\n",
    "# Set the initial condition\n",
    "u.fill(u_initial)\n",
    "\n",
    "# Set the boundary conditions\n",
    "u[:, (plate_length-1):, :] = u_top\n",
    "u[:, :, :1] = u_left\n",
    "u[:, :1, 1:] = u_bottom\n",
    "u[:, :, (plate_length-1):] = u_right\n",
    "\n",
    "def calculate(u):\n",
    "    for k in range(0, max_iter_time-1, 1):\n",
    "        for i in range(1, plate_length-1, delta_x):\n",
    "            for j in range(1, plate_length-1, delta_x):\n",
    "                u[k + 1, i, j] = gamma * (u[k][i+1][j] + u[k][i-1][j] + u[k][i][j+1] + u[k][i][j-1] - 4*u[k][i][j]) + u[k][i][j]\n",
    "\n",
    "    return u\n",
    "\n",
    "def plotheatmap(u_k, k):\n",
    "    # Clear the current plot figure\n",
    "    plt.clf()\n",
    "\n",
    "    plt.title(f\"Temperature at t = {k*delta_t:.3f} unit time\")\n",
    "    plt.xlabel(\"x\")\n",
    "    plt.ylabel(\"y\")\n",
    "\n",
    "    # This is to plot u_k (u at time-step k)\n",
    "    plt.pcolormesh(u_k, cmap=plt.cm.jet, vmin=0, vmax=100)\n",
    "    plt.colorbar()\n",
    "\n",
    "    return plt\n",
    "\n",
    "# Do the calculation here\n",
    "u = calculate(u)\n",
    "\n",
    "def animate(k):\n",
    "    plotheatmap(u[k], k)\n",
    "\n",
    "anim = animation.FuncAnimation(plt.figure(), animate, interval=1, frames=max_iter_time, repeat=False)\n",
    "anim.save(\"heat_equation_solution.gif\")\n",
    "\n",
    "print(\"Done!\")"
   ]
  }
 ],
 "metadata": {
  "@webio": {
   "lastCommId": null,
   "lastKernelId": null
  },
  "kernelspec": {
   "display_name": "Python 3 (ipykernel)",
   "language": "python",
   "name": "python3"
  },
  "language_info": {
   "codemirror_mode": {
    "name": "ipython",
    "version": 3
   },
   "file_extension": ".py",
   "mimetype": "text/x-python",
   "name": "python",
   "nbconvert_exporter": "python",
   "pygments_lexer": "ipython3",
   "version": "3.7.0"
  },
  "toc": {
   "base_numbering": 1,
   "nav_menu": {},
   "number_sections": false,
   "sideBar": true,
   "skip_h1_title": false,
   "title_cell": "Table of Contents",
   "title_sidebar": "Contents",
   "toc_cell": false,
   "toc_position": {
    "height": "calc(100% - 180px)",
    "left": "10px",
    "top": "150px",
    "width": "352px"
   },
   "toc_section_display": true,
   "toc_window_display": false
  }
 },
 "nbformat": 4,
 "nbformat_minor": 2
}
